{
  "cells": [
    {
      "cell_type": "markdown",
      "metadata": {
        "id": "vMU4cvyRIJUT"
      },
      "source": [
        "# 1-0. Colaboratory (Colab) の使い方\n",
        "\n",
        "Colaboratory（通称 Colab）によるノートブックの操作方法について説明します。\n",
        "\n",
        "## Colaboratoryの立ち上げ\n",
        "\n",
        "ブラウザにGoogleアカウント（個人でもECCSでもどちらでもよい）でログインした後に、以下のURLを開いてください。\n",
        "    \n",
        "- https://colab.research.google.com/"
      ]
    },
    {
      "cell_type": "markdown",
      "metadata": {
        "id": "9Z8uDqGSIJUV"
      },
      "source": [
        "## 教材のオープン\n",
        "\n",
        "HTML版の教材の「Open in Colab」をクリックしたり、\n",
        "Google Drive上の教材を直接Colabratoryでオープンした場合、\n",
        "指定したノートブックがオープンされますが、ノートブックを操作した結果は\n",
        "Google Drive上に保存されません。\n",
        "ノートブックの上方にある「ドライブにコピー」のボタンを押せば、\n",
        "自分のGoogle Drive上にノートブックのコピーが作られてオープンされます。\n",
        "ノートブックを操作した結果はコピーに保存されます。\n",
        "\n",
        "なお、ノートブックには `ipynb` という拡張子（エクステンション）が付いています。"
      ]
    },
    {
      "cell_type": "markdown",
      "metadata": {
        "id": "zeGMuyDZIJUW"
      },
      "source": [
        "## ノートブックの操作\n",
        "\n",
        "ノートブックの上方のタイトルの下には、「ファイル」や「編集」などのメニュー、\n",
        "その下には「+ コード」と「+ テキスト」というボタンが表示されています。\n",
        "\n",
        "Ctrl+s（Macの場合は Cmd+s）を入力することによって、\n",
        "編集・操作中のノートブックを Google Drive のファイルにセーブできます。\n",
        "なお、ノートブックは適当なタイミングでオートセーブされます。\n",
        "ファイルメニューの右に「すべての変更を保存しました」と表示されていれば、\n",
        "Ctrl+s を入力する必要はありません。\n",
        "\n",
        "以下の参考文献は、Jupyter Notebook に関する一般的な解説です。\n",
        "jupyterコマンドを起動してブラウザでノートブックを使うのと、\n",
        "Google Colaboratory によりノートブックを使うのでは、\n",
        "インタフェースが大分異なっていることに注意してください。\n",
        "\n",
        "- https://jupyter.readthedocs.io/en/latest/"
      ]
    },
    {
      "cell_type": "markdown",
      "metadata": {
        "id": "6VwIcxG1IJUX"
      },
      "source": [
        "## セル\n",
        "\n",
        "ノートブックはセルから成り立っています。\n",
        "\n",
        "主に次の二種類のセルを使います。\n",
        "\n",
        "* Codeセル（コードセル）：\n",
        "Pythonのコードが書かれたセルです。\n",
        "Codeセルの左端には `[ ]` と表示されています。\n",
        "Codeセルの中のコードを実行するには、\n",
        "`[ ]` のところにマウスカーソルを移動してクリックします。\n",
        "`[ ]` のところにマウスカーソルを移動すると、●の中に▷が表示されます。\n",
        "これはプレイボタンを意味します。\n",
        "プレイボタンを押すとコードが実行され、その結果がセルの下部に挿入されます。\n",
        "（Shiftを押しながらEnterを押しても実行できます。）\n",
        "* Markdownセル（テキストセル）：\n",
        "説明が書かれたセルです。\n",
        "このセル自身はMarkdownセルです。"
      ]
    },
    {
      "cell_type": "code",
      "execution_count": null,
      "metadata": {
        "id": "NwDfoVyoIJUX"
      },
      "outputs": [],
      "source": [
        "1+1"
      ]
    },
    {
      "cell_type": "markdown",
      "metadata": {
        "id": "J2-v-BimIJUY"
      },
      "source": [
        "## セルの編集\n",
        "\n",
        "Codeセル上のプレイボタンでないところにマウスカーソルを移動しクリックすると、\n",
        "Codeセルが選択され、文字カーソルが表示されて、セルの編集が可能になります。\n",
        "Ctrlの付かない文字はそのまま挿入されます。\n",
        "\n",
        "以下のような編集コマンドが使えます。\n",
        "\n",
        "* Ctrl+c: copy\n",
        "* Ctrl+x: cut\n",
        "* Ctrl+v: paste\n",
        "* Ctrl+z: undo\n",
        "* …\n",
        "\n",
        "Codeセルが選択されているとき、Shift+Enter（もしくはShift+Return）を入力すると、\n",
        "セルの中のコードが実行されて、次のセルが選択されます。\n",
        "\n",
        "## 練習\n",
        "\n",
        "次のCodeセルを選択して `10/3` と入力して実行してください。"
      ]
    },
    {
      "cell_type": "code",
      "execution_count": 1,
      "metadata": {
        "id": "CgTxLZIXIJUZ",
        "outputId": "92d6caf5-8035-44ba-bf0c-2c586de6ac7b",
        "colab": {
          "base_uri": "https://localhost:8080/"
        }
      },
      "outputs": [
        {
          "output_type": "execute_result",
          "data": {
            "text/plain": [
              "3.3333333333333335"
            ]
          },
          "metadata": {},
          "execution_count": 1
        }
      ],
      "source": [
        "10/3\n"
      ]
    },
    {
      "cell_type": "markdown",
      "metadata": {
        "id": "nxL4NXabIJUZ"
      },
      "source": [
        "Codeセルの実行が終了し、別のセルが選択されると、\n",
        "セルの左端は `[2]` のようになり、`[ ]` の中に番号が入ります。\n",
        "この番号は、そのCodeセルが何番目に実行されたかを示すもので、\n",
        "Codeセルが実行されるたびに1ずつ増えます。\n",
        "同じセルを続けて実行すれば、この番号は1ずつ増えるでしょう。\n",
        "\n",
        "## セルの挿入\n",
        "\n",
        "Codeセルを新たに挿入するには、\n",
        "ファイルメニューの下の「+ コード」ボタンを押します。\n",
        "現在選択されているセルの下にCodeセルが挿入されます。\n",
        "\n",
        "たとえば、このMarkdownセルを選択してから、\n",
        "「+ コード」ボタンを押してみてください。\n",
        "このMarkdownセルを選択するには、マウスカーソルをここに持って来て\n",
        "クリックすればよいです。説明の全体が四角で囲まれるはずです。"
      ]
    },
    {
      "cell_type": "markdown",
      "metadata": {
        "id": "pQFWjKbVIJUa"
      },
      "source": [
        "Markdownセルを新たに挿入するには、\n",
        "ファイルメニューの下の「+ テキスト」ボタンを押します。\n",
        "なお、ここではMarkdownセルの説明は行っていません。\n",
        "\n",
        "## セルの実行が止まらないとき\n",
        "\n",
        "Codeセルの左端の●の中に□が表示され、\n",
        "その周りをノの字が回り続けているならば、セルのコードは実行中です。\n",
        "いつまでたってもコードの実行が終了しない場合は、\n",
        "そのアイコンを押して、コードの実行を強制終了してください。\n",
        "●の中に□が表示されたアイコンはストップボタンを意味します。\n",
        "\n",
        "たとえば、次のような例です。\n",
        "プレイボタンを押し実行中であることを確かめてから、\n",
        "ストップボタンを押してください。"
      ]
    },
    {
      "cell_type": "code",
      "execution_count": null,
      "metadata": {
        "id": "T8AyPAaiIJUa"
      },
      "outputs": [],
      "source": [
        "while True:\n",
        "    pass"
      ]
    },
    {
      "cell_type": "markdown",
      "metadata": {
        "id": "XVHscdb2IJUb"
      },
      "source": [
        "## セルの操作\n",
        "\n",
        "セルを選択するとセルの右上に色々なボタンが表示されます。\n",
        "これらを押すことにより、セルの削除、セルの移動、コピーペーストなど、\n",
        "セルに対する各種の操作を行うことができます。\n",
        "\n",
        "## ノートブックの参照\n",
        "\n",
        "Colaboratoryが使用するノードブックは Google Drive 上にあります。\n",
        "右上の「共有」のボタンを押すことにより、\n",
        "ノートブックの共有設定を変えることができます。\n",
        "その上で、ノートブックが表示されているブラウザ上のURLを伝えることにより、\n",
        "教員やTAにノートブックを見せることができます。"
      ]
    },
    {
      "cell_type": "markdown",
      "metadata": {
        "id": "JhStpNDAIJUb"
      },
      "source": [
        "## ノートブックのダウンロード\n",
        "\n",
        "Google Drive 上のノートブックをパソコンにダウンロードするには、\n",
        "Colaboratoryのファイルメニューで「.ipynb をダウンロード」を選択します。\n",
        "\n",
        "![](https://raw.githubusercontent.com/utokyo-ipp/utokyo-ipp.github.io/master/colab/./1/colab4.png)"
      ]
    }
  ],
  "metadata": {
    "kernelspec": {
      "display_name": "Python 3 (ipykernel)",
      "language": "python",
      "name": "python3"
    },
    "language_info": {
      "codemirror_mode": {
        "name": "ipython",
        "version": 3
      },
      "file_extension": ".py",
      "mimetype": "text/x-python",
      "name": "python",
      "nbconvert_exporter": "python",
      "pygments_lexer": "ipython3",
      "version": "3.12.4"
    },
    "nbsphinx": {
      "execute": "never"
    },
    "colab": {
      "provenance": []
    }
  },
  "nbformat": 4,
  "nbformat_minor": 0
}